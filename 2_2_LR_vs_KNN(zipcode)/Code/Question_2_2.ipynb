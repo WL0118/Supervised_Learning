{
 "cells": [
  {
   "cell_type": "code",
   "execution_count": 62,
   "metadata": {},
   "outputs": [],
   "source": [
    "import pandas as pd"
   ]
  },
  {
   "cell_type": "markdown",
   "metadata": {},
   "source": [
    "<H1>DATA PROCESSING</H1>"
   ]
  },
  {
   "cell_type": "code",
   "execution_count": 63,
   "metadata": {},
   "outputs": [],
   "source": [
    "#read data\n",
    "df = pd.read_csv('train.csv', header=0)\n",
    "df_test = pd.read_csv('test.csv',header=0) \n",
    "\n",
    "        "
   ]
  },
  {
   "cell_type": "code",
   "execution_count": 64,
   "metadata": {},
   "outputs": [],
   "source": [
    "# extract and merge index for the train data\n",
    "ind2 = df[\"V1\"]==2 \n",
    "ind3 = df[\"V1\"]==3\n",
    "ind2n3 = ind2 | ind3\n"
   ]
  },
  {
   "cell_type": "code",
   "execution_count": 65,
   "metadata": {},
   "outputs": [],
   "source": [
    "# extract and merge index for the test data\n",
    "ind2_test = df_test[\"V1\"]==2 \n",
    "ind3_test = df_test[\"V1\"]==3\n",
    "ind2n3_test = ind2_test | ind3_test\n",
    "df = df.drop(df.index[-ind2n3])\n",
    "df_test = df_test.drop(df_test.index[-ind2n3_test])"
   ]
  },
  {
   "cell_type": "code",
   "execution_count": 66,
   "metadata": {},
   "outputs": [
    {
     "data": {
      "text/html": [
       "<div>\n",
       "<style scoped>\n",
       "    .dataframe tbody tr th:only-of-type {\n",
       "        vertical-align: middle;\n",
       "    }\n",
       "\n",
       "    .dataframe tbody tr th {\n",
       "        vertical-align: top;\n",
       "    }\n",
       "\n",
       "    .dataframe thead th {\n",
       "        text-align: right;\n",
       "    }\n",
       "</style>\n",
       "<table border=\"1\" class=\"dataframe\">\n",
       "  <thead>\n",
       "    <tr style=\"text-align: right;\">\n",
       "      <th></th>\n",
       "      <th>V1</th>\n",
       "      <th>V2</th>\n",
       "      <th>V3</th>\n",
       "      <th>V4</th>\n",
       "      <th>V5</th>\n",
       "      <th>V6</th>\n",
       "      <th>V7</th>\n",
       "      <th>V8</th>\n",
       "      <th>V9</th>\n",
       "      <th>V10</th>\n",
       "      <th>...</th>\n",
       "      <th>V248</th>\n",
       "      <th>V249</th>\n",
       "      <th>V250</th>\n",
       "      <th>V251</th>\n",
       "      <th>V252</th>\n",
       "      <th>V253</th>\n",
       "      <th>V254</th>\n",
       "      <th>V255</th>\n",
       "      <th>V256</th>\n",
       "      <th>V257</th>\n",
       "    </tr>\n",
       "  </thead>\n",
       "  <tbody>\n",
       "    <tr>\n",
       "      <th>4</th>\n",
       "      <td>3</td>\n",
       "      <td>-1.000</td>\n",
       "      <td>-1.000</td>\n",
       "      <td>-1.000</td>\n",
       "      <td>-1.000</td>\n",
       "      <td>-1.000</td>\n",
       "      <td>-0.928</td>\n",
       "      <td>-0.204</td>\n",
       "      <td>0.751</td>\n",
       "      <td>0.466</td>\n",
       "      <td>...</td>\n",
       "      <td>0.466</td>\n",
       "      <td>0.639</td>\n",
       "      <td>1.000</td>\n",
       "      <td>1.000</td>\n",
       "      <td>0.791</td>\n",
       "      <td>0.439</td>\n",
       "      <td>-0.199</td>\n",
       "      <td>-0.883</td>\n",
       "      <td>-1.0</td>\n",
       "      <td>-1.0</td>\n",
       "    </tr>\n",
       "    <tr>\n",
       "      <th>6</th>\n",
       "      <td>3</td>\n",
       "      <td>-1.000</td>\n",
       "      <td>-1.000</td>\n",
       "      <td>-1.000</td>\n",
       "      <td>-0.830</td>\n",
       "      <td>0.442</td>\n",
       "      <td>1.000</td>\n",
       "      <td>1.000</td>\n",
       "      <td>0.479</td>\n",
       "      <td>-0.328</td>\n",
       "      <td>...</td>\n",
       "      <td>1.000</td>\n",
       "      <td>0.671</td>\n",
       "      <td>0.345</td>\n",
       "      <td>-0.507</td>\n",
       "      <td>-1.000</td>\n",
       "      <td>-1.000</td>\n",
       "      <td>-1.000</td>\n",
       "      <td>-1.000</td>\n",
       "      <td>-1.0</td>\n",
       "      <td>-1.0</td>\n",
       "    </tr>\n",
       "    <tr>\n",
       "      <th>26</th>\n",
       "      <td>3</td>\n",
       "      <td>-1.000</td>\n",
       "      <td>-1.000</td>\n",
       "      <td>-1.000</td>\n",
       "      <td>-1.000</td>\n",
       "      <td>-1.000</td>\n",
       "      <td>-0.104</td>\n",
       "      <td>0.549</td>\n",
       "      <td>0.579</td>\n",
       "      <td>0.579</td>\n",
       "      <td>...</td>\n",
       "      <td>0.388</td>\n",
       "      <td>0.579</td>\n",
       "      <td>0.811</td>\n",
       "      <td>1.000</td>\n",
       "      <td>1.000</td>\n",
       "      <td>0.715</td>\n",
       "      <td>0.107</td>\n",
       "      <td>-0.526</td>\n",
       "      <td>-1.0</td>\n",
       "      <td>-1.0</td>\n",
       "    </tr>\n",
       "    <tr>\n",
       "      <th>30</th>\n",
       "      <td>3</td>\n",
       "      <td>-1.000</td>\n",
       "      <td>-1.000</td>\n",
       "      <td>-1.000</td>\n",
       "      <td>-1.000</td>\n",
       "      <td>-1.000</td>\n",
       "      <td>-1.000</td>\n",
       "      <td>-0.107</td>\n",
       "      <td>1.000</td>\n",
       "      <td>1.000</td>\n",
       "      <td>...</td>\n",
       "      <td>-0.280</td>\n",
       "      <td>0.322</td>\n",
       "      <td>0.813</td>\n",
       "      <td>1.000</td>\n",
       "      <td>1.000</td>\n",
       "      <td>0.633</td>\n",
       "      <td>-0.144</td>\n",
       "      <td>-0.994</td>\n",
       "      <td>-1.0</td>\n",
       "      <td>-1.0</td>\n",
       "    </tr>\n",
       "    <tr>\n",
       "      <th>35</th>\n",
       "      <td>3</td>\n",
       "      <td>-1.000</td>\n",
       "      <td>-1.000</td>\n",
       "      <td>-1.000</td>\n",
       "      <td>-1.000</td>\n",
       "      <td>-0.674</td>\n",
       "      <td>0.492</td>\n",
       "      <td>0.573</td>\n",
       "      <td>0.755</td>\n",
       "      <td>-0.018</td>\n",
       "      <td>...</td>\n",
       "      <td>0.537</td>\n",
       "      <td>1.000</td>\n",
       "      <td>1.000</td>\n",
       "      <td>0.689</td>\n",
       "      <td>-0.530</td>\n",
       "      <td>-1.000</td>\n",
       "      <td>-1.000</td>\n",
       "      <td>-1.000</td>\n",
       "      <td>-1.0</td>\n",
       "      <td>-1.0</td>\n",
       "    </tr>\n",
       "    <tr>\n",
       "      <th>...</th>\n",
       "      <td>...</td>\n",
       "      <td>...</td>\n",
       "      <td>...</td>\n",
       "      <td>...</td>\n",
       "      <td>...</td>\n",
       "      <td>...</td>\n",
       "      <td>...</td>\n",
       "      <td>...</td>\n",
       "      <td>...</td>\n",
       "      <td>...</td>\n",
       "      <td>...</td>\n",
       "      <td>...</td>\n",
       "      <td>...</td>\n",
       "      <td>...</td>\n",
       "      <td>...</td>\n",
       "      <td>...</td>\n",
       "      <td>...</td>\n",
       "      <td>...</td>\n",
       "      <td>...</td>\n",
       "      <td>...</td>\n",
       "      <td>...</td>\n",
       "    </tr>\n",
       "    <tr>\n",
       "      <th>7282</th>\n",
       "      <td>3</td>\n",
       "      <td>-1.000</td>\n",
       "      <td>-0.882</td>\n",
       "      <td>-0.334</td>\n",
       "      <td>0.267</td>\n",
       "      <td>0.333</td>\n",
       "      <td>0.749</td>\n",
       "      <td>1.000</td>\n",
       "      <td>1.000</td>\n",
       "      <td>1.000</td>\n",
       "      <td>...</td>\n",
       "      <td>0.968</td>\n",
       "      <td>1.000</td>\n",
       "      <td>1.000</td>\n",
       "      <td>1.000</td>\n",
       "      <td>0.809</td>\n",
       "      <td>0.325</td>\n",
       "      <td>-0.820</td>\n",
       "      <td>-1.000</td>\n",
       "      <td>-1.0</td>\n",
       "      <td>-1.0</td>\n",
       "    </tr>\n",
       "    <tr>\n",
       "      <th>7283</th>\n",
       "      <td>3</td>\n",
       "      <td>-0.985</td>\n",
       "      <td>-0.048</td>\n",
       "      <td>0.226</td>\n",
       "      <td>0.226</td>\n",
       "      <td>0.226</td>\n",
       "      <td>-0.355</td>\n",
       "      <td>-0.807</td>\n",
       "      <td>-1.000</td>\n",
       "      <td>-0.726</td>\n",
       "      <td>...</td>\n",
       "      <td>-0.307</td>\n",
       "      <td>-0.555</td>\n",
       "      <td>-0.555</td>\n",
       "      <td>-0.555</td>\n",
       "      <td>-0.556</td>\n",
       "      <td>-1.000</td>\n",
       "      <td>-1.000</td>\n",
       "      <td>-1.000</td>\n",
       "      <td>-1.0</td>\n",
       "      <td>-1.0</td>\n",
       "    </tr>\n",
       "    <tr>\n",
       "      <th>7286</th>\n",
       "      <td>3</td>\n",
       "      <td>-1.000</td>\n",
       "      <td>-1.000</td>\n",
       "      <td>-1.000</td>\n",
       "      <td>-0.988</td>\n",
       "      <td>-0.527</td>\n",
       "      <td>-0.208</td>\n",
       "      <td>0.620</td>\n",
       "      <td>1.000</td>\n",
       "      <td>0.467</td>\n",
       "      <td>...</td>\n",
       "      <td>-0.116</td>\n",
       "      <td>0.899</td>\n",
       "      <td>0.416</td>\n",
       "      <td>-0.510</td>\n",
       "      <td>-1.000</td>\n",
       "      <td>-1.000</td>\n",
       "      <td>-1.000</td>\n",
       "      <td>-1.000</td>\n",
       "      <td>-1.0</td>\n",
       "      <td>-1.0</td>\n",
       "    </tr>\n",
       "    <tr>\n",
       "      <th>7287</th>\n",
       "      <td>3</td>\n",
       "      <td>-1.000</td>\n",
       "      <td>-1.000</td>\n",
       "      <td>-1.000</td>\n",
       "      <td>-0.990</td>\n",
       "      <td>0.708</td>\n",
       "      <td>0.557</td>\n",
       "      <td>0.347</td>\n",
       "      <td>-0.107</td>\n",
       "      <td>-0.758</td>\n",
       "      <td>...</td>\n",
       "      <td>0.697</td>\n",
       "      <td>0.636</td>\n",
       "      <td>0.167</td>\n",
       "      <td>-0.968</td>\n",
       "      <td>-1.000</td>\n",
       "      <td>-1.000</td>\n",
       "      <td>-1.000</td>\n",
       "      <td>-1.000</td>\n",
       "      <td>-1.0</td>\n",
       "      <td>-1.0</td>\n",
       "    </tr>\n",
       "    <tr>\n",
       "      <th>7288</th>\n",
       "      <td>3</td>\n",
       "      <td>-1.000</td>\n",
       "      <td>-1.000</td>\n",
       "      <td>-1.000</td>\n",
       "      <td>-0.783</td>\n",
       "      <td>-0.984</td>\n",
       "      <td>-0.827</td>\n",
       "      <td>0.068</td>\n",
       "      <td>1.000</td>\n",
       "      <td>1.000</td>\n",
       "      <td>...</td>\n",
       "      <td>0.805</td>\n",
       "      <td>1.000</td>\n",
       "      <td>1.000</td>\n",
       "      <td>0.727</td>\n",
       "      <td>-0.342</td>\n",
       "      <td>-0.933</td>\n",
       "      <td>-1.000</td>\n",
       "      <td>-1.000</td>\n",
       "      <td>-1.0</td>\n",
       "      <td>-1.0</td>\n",
       "    </tr>\n",
       "  </tbody>\n",
       "</table>\n",
       "<p>1389 rows × 257 columns</p>\n",
       "</div>"
      ],
      "text/plain": [
       "      V1     V2     V3     V4     V5     V6     V7     V8     V9    V10  ...  \\\n",
       "4      3 -1.000 -1.000 -1.000 -1.000 -1.000 -0.928 -0.204  0.751  0.466  ...   \n",
       "6      3 -1.000 -1.000 -1.000 -0.830  0.442  1.000  1.000  0.479 -0.328  ...   \n",
       "26     3 -1.000 -1.000 -1.000 -1.000 -1.000 -0.104  0.549  0.579  0.579  ...   \n",
       "30     3 -1.000 -1.000 -1.000 -1.000 -1.000 -1.000 -0.107  1.000  1.000  ...   \n",
       "35     3 -1.000 -1.000 -1.000 -1.000 -0.674  0.492  0.573  0.755 -0.018  ...   \n",
       "...   ..    ...    ...    ...    ...    ...    ...    ...    ...    ...  ...   \n",
       "7282   3 -1.000 -0.882 -0.334  0.267  0.333  0.749  1.000  1.000  1.000  ...   \n",
       "7283   3 -0.985 -0.048  0.226  0.226  0.226 -0.355 -0.807 -1.000 -0.726  ...   \n",
       "7286   3 -1.000 -1.000 -1.000 -0.988 -0.527 -0.208  0.620  1.000  0.467  ...   \n",
       "7287   3 -1.000 -1.000 -1.000 -0.990  0.708  0.557  0.347 -0.107 -0.758  ...   \n",
       "7288   3 -1.000 -1.000 -1.000 -0.783 -0.984 -0.827  0.068  1.000  1.000  ...   \n",
       "\n",
       "       V248   V249   V250   V251   V252   V253   V254   V255  V256  V257  \n",
       "4     0.466  0.639  1.000  1.000  0.791  0.439 -0.199 -0.883  -1.0  -1.0  \n",
       "6     1.000  0.671  0.345 -0.507 -1.000 -1.000 -1.000 -1.000  -1.0  -1.0  \n",
       "26    0.388  0.579  0.811  1.000  1.000  0.715  0.107 -0.526  -1.0  -1.0  \n",
       "30   -0.280  0.322  0.813  1.000  1.000  0.633 -0.144 -0.994  -1.0  -1.0  \n",
       "35    0.537  1.000  1.000  0.689 -0.530 -1.000 -1.000 -1.000  -1.0  -1.0  \n",
       "...     ...    ...    ...    ...    ...    ...    ...    ...   ...   ...  \n",
       "7282  0.968  1.000  1.000  1.000  0.809  0.325 -0.820 -1.000  -1.0  -1.0  \n",
       "7283 -0.307 -0.555 -0.555 -0.555 -0.556 -1.000 -1.000 -1.000  -1.0  -1.0  \n",
       "7286 -0.116  0.899  0.416 -0.510 -1.000 -1.000 -1.000 -1.000  -1.0  -1.0  \n",
       "7287  0.697  0.636  0.167 -0.968 -1.000 -1.000 -1.000 -1.000  -1.0  -1.0  \n",
       "7288  0.805  1.000  1.000  0.727 -0.342 -0.933 -1.000 -1.000  -1.0  -1.0  \n",
       "\n",
       "[1389 rows x 257 columns]"
      ]
     },
     "execution_count": 66,
     "metadata": {},
     "output_type": "execute_result"
    }
   ],
   "source": [
    "df\n"
   ]
  },
  {
   "cell_type": "code",
   "execution_count": 67,
   "metadata": {},
   "outputs": [],
   "source": [
    "#seperate Train Y and Test Y from the data\n",
    "Train_Y=df[\"V1\"]\n",
    "Test_Y=df_test[\"V1\"]\n",
    "df.drop(\"V1\",inplace = True,axis=1)\n",
    "df_test.drop(\"V1\",inplace = True,axis=1)"
   ]
  },
  {
   "cell_type": "code",
   "execution_count": 122,
   "metadata": {},
   "outputs": [],
   "source": [
    "Train_X=df\n",
    "Test_X=df_test\n"
   ]
  },
  {
   "cell_type": "markdown",
   "metadata": {},
   "source": [
    "<H1>Linear_MODEL</H1>"
   ]
  },
  {
   "cell_type": "code",
   "execution_count": null,
   "metadata": {},
   "outputs": [],
   "source": []
  },
  {
   "cell_type": "code",
   "execution_count": 69,
   "metadata": {},
   "outputs": [],
   "source": [
    "import numpy as np\n",
    "from sklearn.linear_model import LinearRegression"
   ]
  },
  {
   "cell_type": "code",
   "execution_count": 83,
   "metadata": {},
   "outputs": [],
   "source": [
    "# make Linear model and predicted Y\n",
    "model = LinearRegression()\n",
    "model.fit(Train_X, Train_Y)\n",
    "pre_Y_Train = model.predict(Train_X)\n",
    "pre_Y= model.predict(Test_X)"
   ]
  },
  {
   "cell_type": "code",
   "execution_count": 74,
   "metadata": {},
   "outputs": [],
   "source": [
    "from sklearn.metrics import mean_squared_error, r2_score"
   ]
  },
  {
   "cell_type": "code",
   "execution_count": 84,
   "metadata": {
    "scrolled": true
   },
   "outputs": [
    {
     "name": "stdout",
     "output_type": "stream",
     "text": [
      "TEST R2 score : 0.39\n",
      "TEST MSE score : 0.15\n",
      "TRAIN R2 score : 0.90\n",
      "TRAIN MSE score : 0.02\n"
     ]
    }
   ],
   "source": [
    "mean_squared_error(Test_Y,pre_Y)\n",
    "print(\"TEST R2 score : %.2f\" % r2_score(Test_Y,pre_Y))\n",
    "print(\"TEST MSE score : %.2f\" % mean_squared_error(Test_Y,pre_Y))\n",
    "print(\"TRAIN R2 score : %.2f\" % r2_score(Train_Y,pre_Y_Train))\n",
    "print(\"TRAIN MSE score : %.2f\" % mean_squared_error(Train_Y,pre_Y_Train))\n"
   ]
  },
  {
   "cell_type": "markdown",
   "metadata": {},
   "source": [
    "<H1>KNN</H1>"
   ]
  },
  {
   "cell_type": "code",
   "execution_count": 77,
   "metadata": {},
   "outputs": [],
   "source": [
    "import numpy as np\n",
    "import matplotlib.pyplot as plt\n",
    "import pandas as pd"
   ]
  },
  {
   "cell_type": "code",
   "execution_count": 82,
   "metadata": {},
   "outputs": [],
   "source": [
    "from sklearn.neighbors import KNeighborsClassifier\n",
    "TEST_MSE = []\n",
    "TEST_R2 = []\n",
    "TRAIN_MSE = []\n",
    "TRAIN_R2 = []\n",
    "# Calculating error for K values between 1 and 40\n",
    "for i in range(1, 15,2):\n",
    "    #print(i)\n",
    "    knn = KNeighborsClassifier(n_neighbors=i)\n",
    "    knn.fit(Train_X, Train_Y)\n",
    "    pred_i = knn.predict(Test_X)\n",
    "    pred_i_tr= knn.predict(Train_X)\n",
    "    #error.append(np.mean(pred_i != Test_Y))\n",
    "    TEST_MSE.append(mean_squared_error(Test_Y,pred_i))\n",
    "    TEST_R2.append(r2_score(Test_Y,pred_i))\n",
    "    TRAIN_MSE.append(mean_squared_error(Train_Y,pred_i_tr))\n",
    "    TRAIN_R2.append(r2_score(Train_Y,pred_i_tr))\n",
    "    \n",
    "    "
   ]
  },
  {
   "cell_type": "code",
   "execution_count": 105,
   "metadata": {},
   "outputs": [
    {
     "data": {
      "text/plain": [
       "Text(0, 0.5, 'MSE')"
      ]
     },
     "execution_count": 105,
     "metadata": {},
     "output_type": "execute_result"
    },
    {
     "data": {
      "image/png": "[encoded data removed]",
      "text/plain": [
       "<Figure size 864x432 with 1 Axes>"
      ]
     },
     "metadata": {
      "needs_background": "light"
     },
     "output_type": "display_data"
    }
   ],
   "source": [
    "plt.figure(figsize=(12, 6))\n",
    "plt.plot(range(1, 15,2), TEST_MSE, color='red', linestyle='dashed', marker='o',\n",
    "         markerfacecolor='blue', markersize=10)\n",
    "plt.plot(range(1, 15,2), TRAIN_MSE, color='black', linestyle='dashed', marker='o',\n",
    "         markerfacecolor='yellow', markersize=10)\n",
    "plt.legend(['TEST_MSE','TRAIN_MSE'])\n",
    "plt.title('TEST and TRAIN MSE by the K Value')\n",
    "\n",
    "plt.xlabel('K Value')\n",
    "plt.ylabel('MSE')"
   ]
  },
  {
   "cell_type": "code",
   "execution_count": 130,
   "metadata": {
    "scrolled": true
   },
   "outputs": [
    {
     "data": {
      "text/plain": [
       "Text(0, 0.5, 'R2')"
      ]
     },
     "execution_count": 130,
     "metadata": {},
     "output_type": "execute_result"
    },
    {
     "data": {
      "image/png": "[encoded data removed]",
      "text/plain": [
       "<Figure size 864x432 with 1 Axes>"
      ]
     },
     "metadata": {
      "needs_background": "light"
     },
     "output_type": "display_data"
    }
   ],
   "source": [
    "plt.figure(figsize=(12, 6))\n",
    "plt.plot(range(1, 15,2), TEST_R2, color='red', linestyle='dashed', marker='o',\n",
    "         markerfacecolor='blue', markersize=10)\n",
    "plt.plot(range(1, 15,2), TRAIN_R2, color='black', linestyle='dashed', marker='o',\n",
    "         markerfacecolor='yellow', markersize=10)\n",
    "\n",
    "plt.legend(['TEST_R2','TRAIN_R2'])\n",
    "plt.title('TEST and TRAIN R2 by the K Value')\n",
    "\n",
    "plt.xlabel('K Value')\n",
    "plt.ylabel('R2')"
   ]
  },
  {
   "cell_type": "code",
   "execution_count": null,
   "metadata": {
    "scrolled": true
   },
   "outputs": [],
   "source": []
  },
  {
   "cell_type": "code",
   "execution_count": 134,
   "metadata": {
    "scrolled": true
   },
   "outputs": [
    {
     "name": "stdout",
     "output_type": "stream",
     "text": [
      "TEST_MSE_KNN_Value_1: 0.02473\n",
      "TEST_R2_KNN_Value_1: 0.90033\n",
      "TEST_MSE_KNN_Value_15: 0.03846\n",
      "TEST_R2_KNN_Value_15: 0.84496\n",
      "TEST R2 score : 0.39\n",
      "TEST MSE score : 0.15\n"
     ]
    }
   ],
   "source": [
    "print('TEST_MSE_KNN_Value_1:',round(TEST_MSE[0],5))\n",
    "print('TEST_R2_KNN_Value_1:',round(TEST_R2[0],5))\n",
    "print('TEST_MSE_KNN_Value_15:',round(TEST_MSE[6],5))\n",
    "print('TEST_R2_KNN_Value_15:',round(TEST_R2[6],5))\n",
    "print(\"TEST R2 score : %.2f\" % r2_score(Test_Y,pre_Y))\n",
    "print(\"TEST MSE score : %.2f\" % mean_squared_error(Test_Y,pre_Y))"
   ]
  },
  {
   "cell_type": "code",
   "execution_count": 133,
   "metadata": {},
   "outputs": [
    {
     "name": "stdout",
     "output_type": "stream",
     "text": [
      "TRAIN_MSE_KNN_Value_1: 0.0\n",
      "TRAIN_R2_KNN_Value_1: 1.0\n",
      "TRAIN_MSE_KNN_Value_15: 0.00864\n",
      "TRAIN_R2_KNN_Value_15: 0.96535\n",
      "TRAIN MSE score : 0.02\n",
      "TRAIN R2 score : 0.90\n"
     ]
    }
   ],
   "source": [
    "print('TRAIN_MSE_KNN_Value_1:',round(TRAIN_MSE[0],5))\n",
    "print('TRAIN_R2_KNN_Value_1:',round(TRAIN_R2[0],5))\n",
    "print('TRAIN_MSE_KNN_Value_15:',round(TRAIN_MSE[6],5))\n",
    "print('TRAIN_R2_KNN_Value_15:',round(TRAIN_R2[6],5))\n",
    "print(\"TRAIN MSE score : %.2f\" % mean_squared_error(Train_Y,pre_Y_Train))\n",
    "print(\"TRAIN R2 score : %.2f\" % r2_score(Train_Y,pre_Y_Train))\n"
   ]
  },
  {
   "cell_type": "code",
   "execution_count": null,
   "metadata": {},
   "outputs": [],
   "source": []
  }
 ],
 "metadata": {
  "kernelspec": {
   "display_name": "Python 3",
   "language": "python",
   "name": "python3"
  },
  "language_info": {
   "codemirror_mode": {
    "name": "ipython",
    "version": 3
   },
   "file_extension": ".py",
   "mimetype": "text/x-python",
   "name": "python",
   "nbconvert_exporter": "python",
   "pygments_lexer": "ipython3",
   "version": "3.8.3"
  }
 },
 "nbformat": 4,
 "nbformat_minor": 4
}
